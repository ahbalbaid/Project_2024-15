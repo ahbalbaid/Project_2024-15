{
 "cells": [
  {
   "cell_type": "code",
   "execution_count": null,
   "id": "7ccbafee-ead8-4ad1-ae1c-2daf61ffcb9b",
   "metadata": {},
   "outputs": [],
   "source": []
  }
 ],
 "metadata": {
  "kernelspec": {
   "display_name": "",
   "name": ""
  },
  "language_info": {
   "name": ""
  }
 },
 "nbformat": 4,
 "nbformat_minor": 5
}
